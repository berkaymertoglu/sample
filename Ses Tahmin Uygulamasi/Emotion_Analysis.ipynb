{
 "cells": [
  {
   "cell_type": "code",
   "execution_count": 39,
   "id": "57d5efc2-b361-4aeb-9151-2ca130021cf1",
   "metadata": {},
   "outputs": [],
   "source": [
    "import streamlit as st\n",
    "import speech_recognition as sr\n",
    "from deep_translator import GoogleTranslator\n",
    "from textblob import TextBlob\n",
    "from google.cloud import language_v1\n",
    "import os"
   ]
  },
  {
   "cell_type": "code",
   "execution_count": 41,
   "id": "a40b1df6-0027-40ba-9ac7-92f0479b7609",
   "metadata": {},
   "outputs": [],
   "source": [
    "def translate_text(text):\n",
    "    \"\"\"Türkçe metni İngilizce’ye çevirir.\"\"\"\n",
    "    return GoogleTranslator(source='auto', target='en').translate(text)"
   ]
  },
  {
   "cell_type": "code",
   "execution_count": 43,
   "id": "75314164-a3a2-4ec3-a107-2f2881c8f981",
   "metadata": {},
   "outputs": [],
   "source": [
    "def analyze_sentiment(text):\n",
    "    \"\"\"İngilizce metin üzerinde duygu analizi yapar.\"\"\"\n",
    "    blob = TextBlob(text)\n",
    "    polarity = blob.sentiment.polarity\n",
    "    subjectivity = blob.sentiment.subjectivity\n",
    "    return polarity, subjectivity"
   ]
  },
  {
   "cell_type": "code",
   "execution_count": 45,
   "id": "8f01ee6d-532a-4fee-8092-040c536f11db",
   "metadata": {},
   "outputs": [],
   "source": [
    "def analyze_topic(text):\n",
    "    \"\"\"Metnin konusunu analiz eder.\"\"\"\n",
    "    \n",
    "    # JSON dosyanızın yolunu ayarlayın\n",
    "    \n",
    "    \n",
    "    client = language_v1.LanguageServiceClient() \n",
    "    document = language_v1.Document(content=text, type=language_v1.Document.Type.PLAIN_TEXT)\n",
    "\n",
    "    # Konu analizi yapma\n",
    "    response = client.analyze_entities(request={'document': document})\n",
    "    \n",
    "    entities_info = []\n",
    "    for entity in response.entities:\n",
    "        entities_info.append({\n",
    "            \"name\": entity.name,\n",
    "            \"type\": entity.type_.name,\n",
    "            \"salience\": entity.salience\n",
    "        })\n",
    "    \n",
    "    return entities_info"
   ]
  },
  {
   "cell_type": "code",
   "execution_count": null,
   "id": "51383ad5-64af-42d5-bfb0-3f557ddea704",
   "metadata": {},
   "outputs": [],
   "source": []
  }
 ],
 "metadata": {
  "kernelspec": {
   "display_name": "Python 3 (ipykernel)",
   "language": "python",
   "name": "python3"
  },
  "language_info": {
   "codemirror_mode": {
    "name": "ipython",
    "version": 3
   },
   "file_extension": ".py",
   "mimetype": "text/x-python",
   "name": "python",
   "nbconvert_exporter": "python",
   "pygments_lexer": "ipython3",
   "version": "3.12.4"
  }
 },
 "nbformat": 4,
 "nbformat_minor": 5
}
