{
 "cells": [
  {
   "cell_type": "code",
   "execution_count": 5,
   "id": "cea691bc-4abf-4fc8-9251-9c5d31ad5a2e",
   "metadata": {},
   "outputs": [],
   "source": [
    "import sounddevice as sd\n",
    "import wavio  # WAV formatında kaydetmek için\n",
    "\n",
    "def ses_kaydi_al():\n",
    "    duration = 5  # Kaydın süresi (saniye)\n",
    "    sample_rate = 16000  # Örnekleme hızı\n",
    "\n",
    "    print(\"Ses kaydı başlıyor...\")\n",
    "    recording = sd.rec(int(duration * sample_rate), samplerate=sample_rate, channels=1, dtype='float64')\n",
    "    sd.wait()  # Kaydın tamamlanmasını bekle\n",
    "    print(\"Ses kaydı tamamlandı.\")\n",
    "\n",
    "    wavio.write('recorded.wav', recording, sample_rate, sampwidth=3)\n",
    "    print(\"Ses kaydı 'recorded.wav' dosyasına kaydedildi.\")"
   ]
  },
  {
   "cell_type": "code",
   "execution_count": 17,
   "id": "58492726-2d8d-4ac9-afd7-70b2897dbe22",
   "metadata": {},
   "outputs": [],
   "source": [
    "import numpy as np\n",
    "import matplotlib.pyplot as plt\n",
    "from scipy.io import wavfile\n",
    "from scipy.signal import spectrogram\n",
    "\n",
    "def ses_histogram_goster(audio_time_series, sample_rate):\n",
    "    \"\"\"Sesin spektrogramı ve dalga formu için figürleri oluşturur ve döndürür.\"\"\"\n",
    "\n",
    "    # 1. Dalga Formu Figürü\n",
    "    fig2, ax2 = plt.subplots(figsize=(10, 3))\n",
    "    time_axis = np.linspace(0, len(audio_time_series) / sample_rate, num=len(audio_time_series))\n",
    "    ax2.plot(time_axis, audio_time_series, color='green')\n",
    "    ax2.set_xlabel(\"Zaman (s)\")\n",
    "    ax2.set_ylabel(\"Genlik\")\n",
    "    ax2.set_title(\"Sesin Dalga Formu\")\n",
    "    ax2.grid(True)\n",
    "    \n",
    "    # 2. Spektrogram Figürü\n",
    "    fig1, ax1 = plt.subplots(figsize=(10, 6))\n",
    "    frequencies, times, Sxx = spectrogram(audio_time_series, sample_rate)\n",
    "    im = ax1.imshow(\n",
    "        10 * np.log10(Sxx), aspect='auto', cmap='inferno', origin='lower',\n",
    "        extent=[times.min(), times.max(), frequencies.min(), frequencies.max()]\n",
    "    )\n",
    "    fig1.colorbar(im, ax=ax1, label='Güç Yoğunluğu (dB)')\n",
    "    ax1.set_xlabel('Zaman (s)')\n",
    "    ax1.set_ylabel('Frekans (Hz)')\n",
    "    ax1.set_title('Sesin Zaman-Frekans Spektrumu')\n",
    "  \n",
    "    return fig1, fig2  # Figürleri döndürüyoruz"
   ]
  },
  {
   "cell_type": "code",
   "execution_count": 19,
   "id": "059ee7d2-cac1-425c-a600-9c0304df3ce1",
   "metadata": {},
   "outputs": [],
   "source": [
    "import librosa\n",
    "import numpy as np\n",
    "\n",
    "def hesapla_mfcc(dosya_adi):\n",
    "    # Ses kaydını yükle\n",
    "    sample_rate = 44100  # Örnekleme hızı\n",
    "    y, sr = librosa.load(dosya_adi, sr=sample_rate)\n",
    "\n",
    "    # MFCC hesapla\n",
    "    mfccs = librosa.feature.mfcc(y=y, sr=sr, n_mfcc=128)\n",
    "    mfccs = np.mean(mfccs.T, axis=0)  # MFCC'leri ortalayıp tek boyutlu hale getir\n",
    "    \n",
    "    return mfccs  # MFCC'leri döndür"
   ]
  },
  {
   "cell_type": "code",
   "execution_count": 29,
   "id": "0633930f-69aa-421c-a18a-8b630413c365",
   "metadata": {},
   "outputs": [],
   "source": [
    "from joblib import load\n",
    "\n",
    "def tahmin_et(mfccs):\n",
    "    # Model dosyasını yükle\n",
    "    model_path = 'mlp_model.pkl'\n",
    "    model = load(model_path)  # Modeli yükle\n",
    "\n",
    "    # MFCC'yi modele uygun şekle getir\n",
    "    mfcc_tensor = np.array(mfccs).reshape(1, -1)\n",
    "\n",
    "    # Tahmin yap ve olasılıkları al\n",
    "    probabilities = model.predict_proba(mfcc_tensor)[0]\n",
    "    predicted_index = np.argmax(probabilities)  # En yüksek olasılığa sahip sınıfın indeksi\n",
    "    class_labels = ['Berkay', 'Hakan', 'Ekin']  # Sınıf etiketleri\n",
    "\n",
    "    # Tahmin edilen sınıfı ve olasılıkları döndür\n",
    "    predicted_class = class_labels[predicted_index]\n",
    "    return predicted_class, probabilities"
   ]
  },
  {
   "cell_type": "code",
   "execution_count": 23,
   "id": "d6c02ffa-c777-4a78-8abc-448118100b00",
   "metadata": {},
   "outputs": [],
   "source": [
    "import speech_recognition as sr\n",
    "\n",
    "def transcribe_audio(audio_file_path):\n",
    "    recognizer = sr.Recognizer()\n",
    "    with sr.AudioFile(audio_file_path) as source:\n",
    "        audio = recognizer.record(source)\n",
    "    try:\n",
    "        transcript = recognizer.recognize_google(audio, language=\"tr-TR\")\n",
    "        return transcript\n",
    "    except sr.UnknownValueError:\n",
    "        return \"Ses anlaşılamadı.\"\n",
    "    except sr.RequestError as e:\n",
    "        return f\"Sonuçlar istenemedi; {e}\"\n",
    "\n",
    "def kelime_say(transcript):\n",
    "    kelimeler = transcript.split()\n",
    "    return len(kelimeler)  # Kelime sayısını döndür"
   ]
  },
  {
   "cell_type": "code",
   "execution_count": null,
   "id": "73610314-1d78-4ac3-9ce1-83d63b20afa8",
   "metadata": {},
   "outputs": [],
   "source": []
  }
 ],
 "metadata": {
  "kernelspec": {
   "display_name": "Python 3 (ipykernel)",
   "language": "python",
   "name": "python3"
  },
  "language_info": {
   "codemirror_mode": {
    "name": "ipython",
    "version": 3
   },
   "file_extension": ".py",
   "mimetype": "text/x-python",
   "name": "python",
   "nbconvert_exporter": "python",
   "pygments_lexer": "ipython3",
   "version": "3.12.4"
  }
 },
 "nbformat": 4,
 "nbformat_minor": 5
}
